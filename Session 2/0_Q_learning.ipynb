{
 "cells": [
  {
   "cell_type": "markdown",
   "metadata": {},
   "source": [
    "**Goal**: Implement Q-learning and use it to solve Gymansium CartPole-v1"
   ]
  },
  {
   "cell_type": "markdown",
   "metadata": {},
   "source": [
    "### Import"
   ]
  },
  {
   "cell_type": "code",
   "execution_count": 1,
   "metadata": {},
   "outputs": [],
   "source": [
    "import os\n",
    "import pickle\n",
    "\n",
    "import gymnasium as gym\n",
    "import numpy as np\n",
    "from matplotlib import pyplot as plt\n",
    "from tqdm import tqdm"
   ]
  },
  {
   "cell_type": "markdown",
   "metadata": {},
   "source": [
    "### Q learning"
   ]
  },
  {
   "cell_type": "code",
   "execution_count": 2,
   "metadata": {},
   "outputs": [],
   "source": [
    "# Specify the environment\n",
    "env = gym.make(\"CartPole-v1\")"
   ]
  },
  {
   "cell_type": "code",
   "execution_count": 3,
   "metadata": {},
   "outputs": [],
   "source": [
    "# Set hyperparameters\n",
    "alpha_0 = 0.1  # Learning rate\n",
    "epsilon_0 = 0.1  # Exploration rate\n",
    "gamma = 0.99  # Discount factor\n",
    "num_batch = 10\n",
    "num_train_episodes = 10000  # Number of training episodes\n",
    "num_state_bins = 14  # Number of state bins"
   ]
  },
  {
   "cell_type": "code",
   "execution_count": 4,
   "metadata": {},
   "outputs": [],
   "source": [
    "# Descritise states\n",
    "def discretize_state(state, state_bin):\n",
    "    return tuple(\n",
    "        [\n",
    "            np.digitize(state[i], state_bin[i]) - 1\n",
    "            for i in range(env.observation_space.shape[0])\n",
    "        ]\n",
    "    )"
   ]
  },
  {
   "cell_type": "code",
   "execution_count": 5,
   "metadata": {},
   "outputs": [],
   "source": [
    "# e-greedy action selection\n",
    "def egreedy(Q, state, epsilon):\n",
    "    if epsilon < np.random.uniform():\n",
    "        return np.argmax(Q[state])\n",
    "    else:\n",
    "        return np.random.randint(env.action_space.n)"
   ]
  },
  {
   "cell_type": "code",
   "execution_count": 6,
   "metadata": {},
   "outputs": [],
   "source": [
    "# Define state bins. Hand crafted because some observation goes from -inf to inf. \n",
    "# Make no sense to divide such observation spaces evenly.\n",
    "# Also, Cartpole env has a bug where observation can be outside the pre-set observation range.\n",
    "state_bins = [\n",
    "    np.insert(\n",
    "        np.linspace(-4.8, 4.8, num_state_bins - 1),\n",
    "        [0, num_state_bins - 1],\n",
    "        [-np.inf, np.inf],\n",
    "    ),\n",
    "    np.insert(\n",
    "        np.linspace(-0.48, 0.48, num_state_bins - 1),\n",
    "        [0, num_state_bins - 1],\n",
    "        [-np.inf, np.inf],\n",
    "    ),\n",
    "    np.insert(\n",
    "        np.linspace(-0.42, 0.42, num_state_bins - 1),\n",
    "        [0, num_state_bins - 1],\n",
    "        [-np.inf, np.inf],\n",
    "    ),\n",
    "    np.insert(\n",
    "        np.linspace(-0.42, 0.42, num_state_bins - 1),\n",
    "        [0, num_state_bins - 1],\n",
    "        [-np.inf, np.inf],\n",
    "    ),\n",
    "]"
   ]
  },
  {
   "cell_type": "code",
   "execution_count": 7,
   "metadata": {},
   "outputs": [],
   "source": [
    "# Initialise the Q table\n",
    "Q = np.random.uniform(\n",
    "    low=0,\n",
    "    high=1,\n",
    "    size=([num_state_bins] * env.observation_space.shape[0] + [env.action_space.n]),\n",
    ")"
   ]
  },
  {
   "cell_type": "code",
   "execution_count": 8,
   "metadata": {},
   "outputs": [
    {
     "name": "stderr",
     "output_type": "stream",
     "text": [
      "100%|██████████| 10000/10000 [00:10<00:00, 910.83it/s]\n"
     ]
    },
    {
     "name": "stdout",
     "output_type": "stream",
     "text": [
      "--------------------- Batch 1 ---------------------\n",
      "The mean reward is 57.1031 and the standard deviation is 76.74098299077228.\n"
     ]
    },
    {
     "name": "stderr",
     "output_type": "stream",
     "text": [
      "100%|██████████| 10000/10000 [00:36<00:00, 274.22it/s]\n"
     ]
    },
    {
     "name": "stdout",
     "output_type": "stream",
     "text": [
      "--------------------- Batch 2 ---------------------\n",
      "The mean reward is 188.76 and the standard deviation is 156.0130872715491.\n"
     ]
    },
    {
     "name": "stderr",
     "output_type": "stream",
     "text": [
      "100%|██████████| 10000/10000 [00:46<00:00, 214.59it/s]\n"
     ]
    },
    {
     "name": "stdout",
     "output_type": "stream",
     "text": [
      "--------------------- Batch 3 ---------------------\n",
      "The mean reward is 239.3936 and the standard deviation is 161.41097261041458.\n"
     ]
    },
    {
     "name": "stderr",
     "output_type": "stream",
     "text": [
      "100%|██████████| 10000/10000 [00:47<00:00, 210.09it/s]\n"
     ]
    },
    {
     "name": "stdout",
     "output_type": "stream",
     "text": [
      "--------------------- Batch 4 ---------------------\n",
      "The mean reward is 249.866 and the standard deviation is 152.8032795590461.\n"
     ]
    },
    {
     "name": "stderr",
     "output_type": "stream",
     "text": [
      "100%|██████████| 10000/10000 [00:51<00:00, 192.99it/s]\n"
     ]
    },
    {
     "name": "stdout",
     "output_type": "stream",
     "text": [
      "--------------------- Batch 5 ---------------------\n",
      "The mean reward is 273.4149 and the standard deviation is 150.25194427357673.\n"
     ]
    },
    {
     "name": "stderr",
     "output_type": "stream",
     "text": [
      "100%|██████████| 10000/10000 [00:57<00:00, 172.56it/s]\n"
     ]
    },
    {
     "name": "stdout",
     "output_type": "stream",
     "text": [
      "--------------------- Batch 6 ---------------------\n",
      "The mean reward is 298.4262 and the standard deviation is 148.11402551264348.\n"
     ]
    },
    {
     "name": "stderr",
     "output_type": "stream",
     "text": [
      "100%|██████████| 10000/10000 [01:02<00:00, 159.90it/s]\n"
     ]
    },
    {
     "name": "stdout",
     "output_type": "stream",
     "text": [
      "--------------------- Batch 7 ---------------------\n",
      "The mean reward is 315.7339 and the standard deviation is 151.9902973573971.\n"
     ]
    },
    {
     "name": "stderr",
     "output_type": "stream",
     "text": [
      "100%|██████████| 10000/10000 [01:02<00:00, 159.94it/s]\n"
     ]
    },
    {
     "name": "stdout",
     "output_type": "stream",
     "text": [
      "--------------------- Batch 8 ---------------------\n",
      "The mean reward is 325.3716 and the standard deviation is 151.90686262786156.\n"
     ]
    },
    {
     "name": "stderr",
     "output_type": "stream",
     "text": [
      "100%|██████████| 10000/10000 [01:00<00:00, 166.64it/s]\n"
     ]
    },
    {
     "name": "stdout",
     "output_type": "stream",
     "text": [
      "--------------------- Batch 9 ---------------------\n",
      "The mean reward is 310.6718 and the standard deviation is 150.476813113383.\n"
     ]
    },
    {
     "name": "stderr",
     "output_type": "stream",
     "text": [
      "100%|██████████| 10000/10000 [01:04<00:00, 155.33it/s]"
     ]
    },
    {
     "name": "stdout",
     "output_type": "stream",
     "text": [
      "--------------------- Batch 10 ---------------------\n",
      "The mean reward is 330.0581 and the standard deviation is 150.67536867182372.\n"
     ]
    },
    {
     "name": "stderr",
     "output_type": "stream",
     "text": [
      "\n"
     ]
    }
   ],
   "source": [
    "# Training loop\n",
    "for batch in range(num_batch):\n",
    "    total_rewards = []\n",
    "    alpha = alpha_0\n",
    "    epsilon = epsilon_0\n",
    "    for episode in tqdm(range(num_train_episodes)):\n",
    "        state, _ = env.reset()\n",
    "        score = 0\n",
    "        state = discretize_state(state, state_bins)\n",
    "\n",
    "        while True:\n",
    "            # Perform the chosen action and observe the next state and reward\n",
    "            action = egreedy(Q, state, epsilon)\n",
    "\n",
    "            next_state, reward, terminated, truncated, info = env.step(action)\n",
    "            next_state = discretize_state(next_state, state_bins)\n",
    "\n",
    "            # Update the Q-value for the current state-action pair\n",
    "            Q[state][action] = Q[state][action] + alpha * (\n",
    "                reward + gamma * np.max(Q[next_state]) - Q[state][action]\n",
    "            )\n",
    "\n",
    "            state = next_state\n",
    "            score += reward\n",
    "\n",
    "            if terminated or truncated:\n",
    "                total_rewards.append(score)\n",
    "                break\n",
    "\n",
    "    total_rewards = np.array(total_rewards)\n",
    "    print(f\"--------------------- Batch {batch+1} ---------------------\")\n",
    "    print(\n",
    "        f\"The mean reward is {np.mean(total_rewards)} and the standard deviation is {np.std(total_rewards)}.\"\n",
    "    )"
   ]
  },
  {
   "cell_type": "code",
   "execution_count": 9,
   "metadata": {},
   "outputs": [],
   "source": [
    "# Save the Q table\n",
    "save_path = os.path.join(\"Training\", \"Saved Models\", \"CartPole_Q_table.pkl\")\n",
    "with open(save_path, \"wb\") as f:\n",
    "    pickle.dump(Q, f)"
   ]
  },
  {
   "cell_type": "markdown",
   "metadata": {},
   "source": [
    "### Test - trained model - Q-learning"
   ]
  },
  {
   "cell_type": "code",
   "execution_count": 10,
   "metadata": {},
   "outputs": [],
   "source": [
    "# Load the Q table\n",
    "save_path = os.path.join(\"Training\", \"Saved Models\", \"CartPole_Q_table.pkl\")\n",
    "with open(save_path, \"rb\") as f:\n",
    "    Q = pickle.load(f)"
   ]
  },
  {
   "cell_type": "code",
   "execution_count": 15,
   "metadata": {},
   "outputs": [
    {
     "name": "stderr",
     "output_type": "stream",
     "text": [
      "100%|██████████| 1/1 [00:20<00:00, 20.99s/it]"
     ]
    },
    {
     "name": "stdout",
     "output_type": "stream",
     "text": [
      "Score: 500.0\n"
     ]
    },
    {
     "name": "stderr",
     "output_type": "stream",
     "text": [
      "\n"
     ]
    }
   ],
   "source": [
    "# Test model (visually)\n",
    "env = gym.make(\"CartPole-v1\", render_mode = \"human\")\n",
    "episodes = 1\n",
    "for episode in range(episodes):\n",
    "    state, _ = env.reset()\n",
    "    score = 0\n",
    "\n",
    "    while True:\n",
    "        env.render()\n",
    "        state = discretize_state(state, state_bins)\n",
    "        action = np.argmax(Q[state])\n",
    "        state, reward, terminated, truncated, info = env.step(action)\n",
    "        score += reward\n",
    "        if terminated or truncated:\n",
    "            print(f\"Score: {score}\")\n",
    "            break"
   ]
  },
  {
   "cell_type": "code",
   "execution_count": 11,
   "metadata": {},
   "outputs": [
    {
     "name": "stderr",
     "output_type": "stream",
     "text": [
      "100%|██████████| 1000/1000 [00:04<00:00, 242.32it/s]"
     ]
    },
    {
     "name": "stdout",
     "output_type": "stream",
     "text": [
      "The mean reward is 343.736 and the standard deviation is 139.96815460668185.\n"
     ]
    },
    {
     "name": "stderr",
     "output_type": "stream",
     "text": [
      "\n"
     ]
    }
   ],
   "source": [
    "# Test model\n",
    "env = gym.make(\"CartPole-v1\")\n",
    "total_rewards = []\n",
    "episodes = 1000\n",
    "for episode in tqdm(range(episodes)):\n",
    "    state, _ = env.reset()\n",
    "    score = 0\n",
    "\n",
    "    while True:\n",
    "        state = discretize_state(state, state_bins)\n",
    "        action = np.argmax(Q[state])\n",
    "        state, reward, terminated, truncated, info = env.step(action)\n",
    "        score += reward\n",
    "        if terminated or truncated:\n",
    "            total_rewards.append(score)\n",
    "            break\n",
    "\n",
    "total_rewards = np.array(total_rewards)\n",
    "print(\n",
    "    f\"The mean reward is {np.mean(total_rewards)} and the standard deviation is {np.std(total_rewards)}.\"\n",
    ")"
   ]
  },
  {
   "cell_type": "code",
   "execution_count": 12,
   "metadata": {},
   "outputs": [
    {
     "data": {
      "text/plain": [
       "(array([ 28.,  55., 123., 115.,  91.,  93.,  59.,  27.,  22., 387.]),\n",
       " array([ 71. , 113.9, 156.8, 199.7, 242.6, 285.5, 328.4, 371.3, 414.2,\n",
       "        457.1, 500. ]),\n",
       " <BarContainer object of 10 artists>)"
      ]
     },
     "execution_count": 12,
     "metadata": {},
     "output_type": "execute_result"
    },
    {
     "data": {
      "image/png": "[encoded data removed]",
      "text/plain": [
       "<Figure size 640x480 with 1 Axes>"
      ]
     },
     "metadata": {},
     "output_type": "display_data"
    }
   ],
   "source": [
    "plt.hist(total_rewards)"
   ]
  },
  {
   "cell_type": "code",
   "execution_count": null,
   "metadata": {},
   "outputs": [],
   "source": []
  }
 ],
 "metadata": {
  "kernelspec": {
   "display_name": "RLPractical",
   "language": "python",
   "name": "python3"
  },
  "language_info": {
   "codemirror_mode": {
    "name": "ipython",
    "version": 3
   },
   "file_extension": ".py",
   "mimetype": "text/x-python",
   "name": "python",
   "nbconvert_exporter": "python",
   "pygments_lexer": "ipython3",
   "version": "3.10.14"
  }
 },
 "nbformat": 4,
 "nbformat_minor": 2
}
