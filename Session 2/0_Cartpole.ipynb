{
 "cells": [
  {
   "cell_type": "markdown",
   "id": "a5847a6e",
   "metadata": {},
   "source": [
    "**Goal**: Introduce the Gymnasium CartPole-v1 environment"
   ]
  },
  {
   "cell_type": "markdown",
   "id": "a5cf5146",
   "metadata": {},
   "source": [
    "## Cartpole environment"
   ]
  },
  {
   "cell_type": "markdown",
   "id": "0c034986",
   "metadata": {},
   "source": [
    "The Cart-Pole world consists of a cart that moves along the horizontal axis and a pole that is anchored on the cart. At every time step, the environment is described by the cart's position (x) and velocity ($\\dot x$) and the pole's angle ($\\theta$), and angular velocity ($\\dot \\theta$). These are the observable states of this world. The control objective is to keep the pole in the vertical position by applying horizontal actions to the cart."
   ]
  },
  {
   "cell_type": "markdown",
   "id": "1cba5e1b",
   "metadata": {},
   "source": [
    "The gymnasium API will be used in order use the cartpole environment "
   ]
  },
  {
   "cell_type": "code",
   "execution_count": 1,
   "id": "0a53706d",
   "metadata": {},
   "outputs": [],
   "source": [
    "import gymnasium as gym \n",
    "from matplotlib import pyplot as plt "
   ]
  },
  {
   "cell_type": "code",
   "execution_count": 2,
   "id": "66140517",
   "metadata": {},
   "outputs": [
    {
     "data": {
      "image/png": "[encoded data removed]",
      "text/plain": [
       "<Figure size 640x480 with 1 Axes>"
      ]
     },
     "metadata": {},
     "output_type": "display_data"
    }
   ],
   "source": [
    "env = gym.make('CartPole-v1',render_mode=\"rgb_array\")\n",
    "env.reset()\n",
    "img = env.render()\n",
    "plt.imshow(img)\n",
    "plt.show()"
   ]
  },
  {
   "cell_type": "markdown",
   "id": "b2cc91ba",
   "metadata": {},
   "source": [
    "### Action space"
   ]
  },
  {
   "cell_type": "markdown",
   "id": "1cce9c26",
   "metadata": {},
   "source": [
    "Since the cart moves on the horizontal axis, the cart has only two possible actions: move to the left or move to the right, independently of the environment's state."
   ]
  },
  {
   "cell_type": "markdown",
   "id": "354db106",
   "metadata": {},
   "source": [
    "- Push the cart left – denoted by 0\n",
    "- Push the cart right – denoted by 1"
   ]
  },
  {
   "cell_type": "code",
   "execution_count": 3,
   "id": "6dcad8f0",
   "metadata": {},
   "outputs": [
    {
     "name": "stdout",
     "output_type": "stream",
     "text": [
      "The type of action space is:  Discrete(2)\n"
     ]
    }
   ],
   "source": [
    "print(\"The type of action space is: \", env.action_space)"
   ]
  },
  {
   "cell_type": "markdown",
   "id": "0cdfa617",
   "metadata": {},
   "source": [
    "### Observation space"
   ]
  },
  {
   "cell_type": "markdown",
   "id": "b53b332c",
   "metadata": {},
   "source": [
    "- Cart position - range: (-4.8, 4.8)\n",
    "- Cart velocity - range: (-Inf, Inf)\n",
    "- Pole angle - range in randians: (-0.418, 0.418)\n",
    "- Pole angular velocity: (-Inf, Inf)"
   ]
  },
  {
   "cell_type": "code",
   "execution_count": 4,
   "id": "d9e38d87",
   "metadata": {},
   "outputs": [
    {
     "name": "stdout",
     "output_type": "stream",
     "text": [
      "The observation space is:  Box([-4.8000002e+00 -3.4028235e+38 -4.1887903e-01 -3.4028235e+38], [4.8000002e+00 3.4028235e+38 4.1887903e-01 3.4028235e+38], (4,), float32)\n"
     ]
    }
   ],
   "source": [
    "print(\"The observation space is: \", env.observation_space)"
   ]
  },
  {
   "cell_type": "markdown",
   "id": "21bb00d1",
   "metadata": {},
   "source": [
    "### Rewards\n",
    "Since the goal is to keep the pole upright for as long as possible, a reward of +1 for every step taken, including the termination step, is allotted. \n",
    "\n",
    "The threshold for rewards is 500 for v1 and 200 for v0."
   ]
  },
  {
   "cell_type": "markdown",
   "id": "803d02e1",
   "metadata": {},
   "source": [
    "### Initialisation"
   ]
  },
  {
   "cell_type": "markdown",
   "id": "066b3436",
   "metadata": {},
   "source": [
    "The initial state of the environment are randomly chosen using uniform distribution  from the interval (-0.05,0.05)."
   ]
  },
  {
   "cell_type": "markdown",
   "id": "118e5f58",
   "metadata": {},
   "source": [
    "### Termination Criteria"
   ]
  },
  {
   "cell_type": "markdown",
   "id": "c1a3b5fb",
   "metadata": {},
   "source": [
    "- The absolute value of the pole angle becomes greater than 12 degrees or 0.2095 radians.\n",
    "- The absolute value of the cart position is greater than 2.4.\n",
    "- The number of steps in an episode is greater than 500"
   ]
  }
 ],
 "metadata": {
  "kernelspec": {
   "display_name": "Python 3 (ipykernel)",
   "language": "python",
   "name": "python3"
  },
  "language_info": {
   "codemirror_mode": {
    "name": "ipython",
    "version": 3
   },
   "file_extension": ".py",
   "mimetype": "text/x-python",
   "name": "python",
   "nbconvert_exporter": "python",
   "pygments_lexer": "ipython3",
   "version": "3.10.13"
  }
 },
 "nbformat": 4,
 "nbformat_minor": 5
}
