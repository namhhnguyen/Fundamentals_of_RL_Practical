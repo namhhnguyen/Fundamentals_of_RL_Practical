{
 "cells": [
  {
   "cell_type": "code",
   "execution_count": null,
   "metadata": {},
   "outputs": [],
   "source": [
    "# %pip install gymnasium\n",
    "# %pip install numpy\n",
    "# %pip install matplotlib"
   ]
  },
  {
   "cell_type": "code",
   "execution_count": 1,
   "metadata": {},
   "outputs": [],
   "source": [
    "import gymnasium as gym\n",
    "import numpy as np\n",
    "import os\n",
    "import random\n",
    "import matplotlib.pyplot as plt\n",
    "from IPython.display import Image"
   ]
  },
  {
   "attachments": {},
   "cell_type": "markdown",
   "metadata": {},
   "source": [
    "## random policy"
   ]
  },
  {
   "attachments": {},
   "cell_type": "markdown",
   "metadata": {},
   "source": [
    "- Equal probability for selecting any action in any state"
   ]
  },
  {
   "cell_type": "code",
   "execution_count": 3,
   "metadata": {},
   "outputs": [],
   "source": [
    "def random_policy(nS,nA):\n",
    "    action_prob = [1/nA] * nA\n",
    "    return [action_prob for _ in range(nS)]"
   ]
  },
  {
   "attachments": {},
   "cell_type": "markdown",
   "metadata": {},
   "source": [
    "## greedy policy"
   ]
  },
  {
   "attachments": {},
   "cell_type": "markdown",
   "metadata": {},
   "source": [
    "- Always select the action with the highest Q-value (predicted future reward) for the current state to exploit "
   ]
  },
  {
   "cell_type": "code",
   "execution_count": 4,
   "metadata": {},
   "outputs": [],
   "source": [
    "def greedy_policy(Q, nS, nA):\n",
    "    # initialize arbitrary policy\n",
    "    policy = np.zeros([nS,nA])\n",
    "    \n",
    "    # list of states in environment \n",
    "    S = [i for i in range(nS)]\n",
    "\n",
    "    # loop over states\n",
    "    for state in S:\n",
    "        if all([ q == 0 for q in Q[state]]) :\n",
    "            policy[state] = random_policy(1,nA)[0]\n",
    "        \n",
    "        else:\n",
    "            best_action = np.argmax(Q[state]) \n",
    "            policy[state] = np.eye(nA)[best_action].tolist()\n",
    "\n",
    "    return policy"
   ]
  },
  {
   "attachments": {},
   "cell_type": "markdown",
   "metadata": {},
   "source": [
    "## ε-greedy policy"
   ]
  },
  {
   "attachments": {},
   "cell_type": "markdown",
   "metadata": {},
   "source": [
    "- Initialize the exploration rate ε\n",
    "- Generate a random number between 0 and 1.\n",
    "- If the generated random number is less than ε, select a random action to explore.\n",
    "- Otherwise, select the action with the highest Q-value for the current state to exploit."
   ]
  },
  {
   "cell_type": "code",
   "execution_count": 5,
   "metadata": {},
   "outputs": [],
   "source": [
    "def epsilon_greedy_policy(Q, nS, nA, epsilon):\n",
    "    # initialize arbitraty policy\n",
    "    policy = [[0 for _ in range(nA)] for _ in range (nS)]\n",
    "    \n",
    "    # list of states in environment \n",
    "    S = [i for i in range(nS)]\n",
    "\n",
    "    # list of possible actions to be taken by the agent\n",
    "    A = [i for i in range(nA)]\n",
    "\n",
    "    # loop over states\n",
    "    for state in S:\n",
    "\n",
    "        # if all Q values in state are 0, agent picks random action\n",
    "        if all([ q == 0 for q in Q[state][:]]):\n",
    "            for action in range(nA):\n",
    "                policy[state][action] = 1/nA\n",
    "\n",
    "        else:\n",
    "            # position of maximum Q value in state\n",
    "            maxQ = np.argmax(Q[state])\n",
    "\n",
    "            # probability agent acts randomly\n",
    "            prob = [epsilon/nA for _ in range(nA)]\n",
    "\n",
    "            # probability agent acts greedily\n",
    "            prob[maxQ] = 1 - epsilon  + (epsilon/nA)\n",
    "\n",
    "            for action in A:\n",
    "                policy[state][action] = prob[action]\n",
    "    return policy"
   ]
  },
  {
   "attachments": {},
   "cell_type": "markdown",
   "metadata": {},
   "source": [
    "Function to evaluate policy performance\n",
    "----------------------------------------"
   ]
  },
  {
   "attachments": {},
   "cell_type": "markdown",
   "metadata": {},
   "source": [
    "- Evaluate average episode reward following a given policy "
   ]
  },
  {
   "cell_type": "code",
   "execution_count": 6,
   "metadata": {},
   "outputs": [],
   "source": [
    "def evaluate_average_reward(env, nA, policy, num_eval_episodes = 100):\n",
    "    # store episode rewards \n",
    "    episode_rewards = []\n",
    "\n",
    "    # list of possible actions to be taken by the agent\n",
    "    A = [i for i in range(nA)]\n",
    "    \n",
    "    # loop over number of episodes \n",
    "    for _ in range(num_eval_episodes):\n",
    "        state = env.reset()[0]\n",
    "        episode_reward = 0\n",
    "\n",
    "        # loop until episode ends\n",
    "        while True:\n",
    "            # pick action according to the current policy\n",
    "            action = random.choices(A, weights=[policy[state][i] for i in range(nA)], k=1)[0]\n",
    "\n",
    "            # take action\n",
    "            next_state, reward, terminated, truncated, info = env.step(action)\n",
    "\n",
    "            # update current state\n",
    "            state = next_state\n",
    "\n",
    "            # count cumulative episode reward:\n",
    "            episode_reward += reward\n",
    "        \n",
    "            # exit loop when episode is terminated or truncated\n",
    "            if terminated==True or truncated == True:\n",
    "                episode_rewards.append(episode_reward)\n",
    "                break\n",
    "    \n",
    "    env.reset()\n",
    "    \n",
    "    reward_average = np.mean(episode_rewards)\n",
    "\n",
    "    return reward_average"
   ]
  },
  {
   "attachments": {},
   "cell_type": "markdown",
   "metadata": {},
   "source": [
    "Frozen Lake environment from gymnasium API\n",
    "--------------------------------------------"
   ]
  },
  {
   "cell_type": "code",
   "execution_count": 7,
   "metadata": {},
   "outputs": [
    {
     "name": "stdout",
     "output_type": "stream",
     "text": [
      "\n",
      "\u001b[41mS\u001b[0mFFF\n",
      "FHFH\n",
      "FFFH\n",
      "HFFG\n",
      "\n",
      "Size of state space: 16 \n",
      "Size of action space: 4\n"
     ]
    }
   ],
   "source": [
    "env = gym.make('FrozenLake-v1',map_name=\"4x4\",render_mode=\"ansi\",is_slippery=False)\n",
    "\n",
    "# restart episode with agent in state 0\n",
    "next_state, info = env.reset()\n",
    "\n",
    "print(env.render())\n",
    "\n",
    "nS = env.observation_space.n\n",
    "nA = env.action_space.n\n",
    "\n",
    "print(f\"Size of state space: {nS} \\nSize of action space: {nA}\")"
   ]
  },
  {
   "attachments": {},
   "cell_type": "markdown",
   "metadata": {},
   "source": [
    "On-policy MC control\n",
    "----------------------\n",
    "---------------------"
   ]
  },
  {
   "attachments": {},
   "cell_type": "markdown",
   "metadata": {},
   "source": [
    "Monte Carlo methods are a type of model-free algorithms that find optimial policies for environments where the dynamics, p(s',r|s,a), are not known. In order to learn the optimal actions for control, MC methods estimates action-value functions by averaging over sample returns.\n",
    "\n",
    "The MC algorithm generates episodes (a series of states, actions and rewards until a terminal state is reached) following a given policy. The algorithm updates state-action values only for first-time state-action pairs in an episode. As returns for a state is the sum of future discounted rewards, updates of state-values are evaluated by looping backwards from the end of the episode. For an optimial control policy, we then just select the action in a given state that maximises the state-action value function. Here we use epsilon-greedy policy to encourage exploration as well as exploitation."
   ]
  },
  {
   "cell_type": "code",
   "execution_count": 3,
   "metadata": {},
   "outputs": [
    {
     "name": "stdout",
     "output_type": "stream",
     "text": [
      "on-policy MC control algorithm:\n"
     ]
    },
    {
     "data": {
      "image/png": "[encoded data removed]",
      "text/plain": [
       "<IPython.core.display.Image object>"
      ]
     },
     "execution_count": 3,
     "metadata": {},
     "output_type": "execute_result"
    }
   ],
   "source": [
    "print(\"on-policy MC control algorithm:\")\n",
    "Image(filename='Pseudo-code/on-policy_MC_control.png')"
   ]
  },
  {
   "attachments": {},
   "cell_type": "markdown",
   "metadata": {},
   "source": [
    "Set hyperparameters"
   ]
  },
  {
   "cell_type": "code",
   "execution_count": null,
   "metadata": {},
   "outputs": [],
   "source": [
    "# Discount factor [0,1]\n",
    "gamma = # ...\n",
    "# Exploration rate [0,1]\n",
    "epsilon = # ...\n",
    "# Number of episodes [1,infty]\n",
    "num_episodes = # ..."
   ]
  },
  {
   "cell_type": "code",
   "execution_count": null,
   "metadata": {},
   "outputs": [],
   "source": [
    "def onpolicy_control(env, nS, nA, num_episodes, gamma, epsilon):\n",
    "    # initialize arbitrary action-value function\n",
    "    Q = #...\n",
    "\n",
    "    # list of possible actions to be taken by the agent\n",
    "    A = [i for i in range(nA)]\n",
    "\n",
    "    # initialize list to save state-action returns for each epsisode\n",
    "    returns = [[[] for _ in range(nA)] for _ in range(nS)]\n",
    "\n",
    "    # intialise epsilon-greedy policy\n",
    "    policy = #...\n",
    "\n",
    "    average_reward = evaluate_average_reward(env, nA, policy, num_eval_episodes = 100)\n",
    "    \n",
    "    # store number of policy iterations and average episode reward during training\n",
    "    num_policy_iter = [0]\n",
    "    average_rewards_list = [average_reward]\n",
    "\n",
    "    # number of policy iterations\n",
    "    n = 0\n",
    "\n",
    "    # loop over number of episodes of experience sampled by agent \n",
    "    for _ in range(num_episodes):\n",
    "        n+=1\n",
    "        # initialize initial state value\n",
    "        state = 0 \n",
    "        \n",
    "        # save states, actions and rewards for each episode\n",
    "        states = [0]\n",
    "        actions = []\n",
    "        rewards = []\n",
    "\n",
    "        # loop until episode terminates or truncates \n",
    "        while True:\n",
    "            # epislon greedy policy\n",
    "            policy = epsilon_greedy_policy(Q, nS, nA, epsilon = 0.1)\n",
    "            \n",
    "            # pick action according to the current policy\n",
    "            action = #...\n",
    "\n",
    "            # take action\n",
    "            next_state, reward, terminated, truncated, info = env.step(action)\n",
    "            \n",
    "            if terminated == False and truncated == False:\n",
    "                # save state, action and reward in episode\n",
    "\n",
    "                # update current state\n",
    "                state = next_state\n",
    "\n",
    "            # if epsiode terminates or truncates,  and exit loop\n",
    "            if terminated == True or truncated == True:\n",
    "                actions.append(action)\n",
    "                rewards.append(reward)\n",
    "\n",
    "                # reset episode\n",
    "                # exit loop\n",
    "                \n",
    "        # initialize return value: the total discounted award reward from a complete episode\n",
    "        G = 0\n",
    "\n",
    "        episode_length = len(states)\n",
    "\n",
    "        state_action = [[states[i],actions[i]] for i in range(episode_length)]\n",
    "        \n",
    "        # evaluate return for each state in episode\n",
    "        # loop backwards from the end of the episode, as return is a function of all future rewards in an episode\n",
    "        for i in reversed(range(episode_length)):\n",
    "            # return at the current state-action pair is equal to the sum of the immediate reward plus the future discounted return\n",
    "            G = # ...\n",
    "\n",
    "            # first-visit MC averages averages over returns from first state-action pair in an episode\n",
    "            # ignore returns from state-action pairs after first time in epsiode\n",
    "            if state_action[i] not in state_action[:i]:\n",
    "                returns[states[i]][actions[i]].append(G)\n",
    "\n",
    "                # evaluate state-action-value by taking the average of the state-action returns across all episodes of experience\n",
    "                Q[states[i],actions[i]]= # ...\n",
    "        \n",
    "        # update policy \n",
    "        policy = # ...\n",
    "\n",
    "        # save number of policy iterations\n",
    "        num_policy_iter.append(n)\n",
    "\n",
    "        # evaluate average episode reward\n",
    "        average_reward = evaluate_average_reward(env, nA, policy, num_eval_episodes = 100)\n",
    "        average_rewards_list.append(average_reward)\n",
    "\n",
    "    return Q, policy, num_policy_iter, average_rewards_list"
   ]
  },
  {
   "cell_type": "code",
   "execution_count": null,
   "metadata": {},
   "outputs": [],
   "source": [
    "Q, policy, num_policy_iter, average_rewards_list = onpolicy_control(env, nS, nA, num_episodes, gamma, epsilon)"
   ]
  },
  {
   "attachments": {},
   "cell_type": "markdown",
   "metadata": {},
   "source": [
    "Evaluate the results\n",
    "--------------------"
   ]
  },
  {
   "cell_type": "code",
   "execution_count": null,
   "metadata": {},
   "outputs": [],
   "source": [
    "# plot learning rate\n",
    "fig, ax = plt.subplots()\n",
    "ax.plot(num_policy_iter, average_rewards_list, color = 'black', label = \"\")\n",
    "\n",
    "ax.set_xlabel(\"Number of policy iterations\")\n",
    "ax.set_ylabel('Average reward')\n",
    "\n",
    "ax.legend(prop = { \"size\": 10 })\n",
    "\n",
    "plt.xticks(np.arange(num_policy_iter[0], num_policy_iter[-1]+1,  num_policy_iter[-1]*0.1))\n",
    "\n",
    "plt.show()"
   ]
  },
  {
   "cell_type": "code",
   "execution_count": null,
   "metadata": {},
   "outputs": [],
   "source": [
    "# plot learning rate\n",
    "fig, ax = plt.subplots()\n",
    "ax.plot(num_policy_iter, average_rewards_list_b, color = 'black', label = \"behaviour policy\")\n",
    "ax.plot(num_policy_iter, average_rewards_list_t, color = 'red', linestyle = 'dashed', label = \"target policy\")\n",
    "\n",
    "ax.set_xlabel(\"Number of policy iterations\")\n",
    "ax.set_ylabel('Average reward')\n",
    "\n",
    "ax.legend(prop = { \"size\": 10 })\n",
    "\n",
    "plt.xticks(np.arange(num_policy_iter[0], num_policy_iter[-1]+1,  num_policy_iter[-1]*0.1))\n",
    "\n",
    "plt.show()"
   ]
  }
 ],
 "metadata": {
  "kernelspec": {
   "display_name": "div_rl",
   "language": "python",
   "name": "python3"
  },
  "language_info": {
   "codemirror_mode": {
    "name": "ipython",
    "version": 3
   },
   "file_extension": ".py",
   "mimetype": "text/x-python",
   "name": "python",
   "nbconvert_exporter": "python",
   "pygments_lexer": "ipython3",
   "version": "3.12.0"
  },
  "orig_nbformat": 4
 },
 "nbformat": 4,
 "nbformat_minor": 2
}
